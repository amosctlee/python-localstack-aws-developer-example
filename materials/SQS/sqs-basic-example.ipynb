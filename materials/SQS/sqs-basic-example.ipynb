{
 "cells": [
  {
   "cell_type": "code",
   "execution_count": null,
   "metadata": {},
   "outputs": [],
   "source": [
    "\"\"\"\n",
    "創建 queue:\n",
    "    List How many queues in SQS service \n",
    "    Create a queue\n",
    "    List How many queues in SQS service \n",
    "\n",
    "發送訊息至 queue:\n",
    "    List messages in queue\n",
    "    Send a message into queue\n",
    "    List messages in queue\n",
    "\n",
    "測試可見性逾時:\n",
    "    List messages in queue (the message invisible)\n",
    "        wait 10 seconds\n",
    "    List messages in queue (the message visible)\n",
    "\n",
    "需使用receipt_handle 來刪除訊息:\n",
    "    Get a message and it's receipt_handle from queue \n",
    "    Delete message from queue\n",
    "        wait 10 second\n",
    "    List messages in queue\n",
    "\n",
    "刪除 queue:\n",
    "    Delete the queue\n",
    "\n",
    "\"\"\""
   ]
  },
  {
   "cell_type": "code",
   "execution_count": null,
   "metadata": {},
   "outputs": [],
   "source": [
    "!pip install boto3 awscli"
   ]
  },
  {
   "cell_type": "code",
   "execution_count": null,
   "metadata": {},
   "outputs": [],
   "source": [
    "# Get the service resource\n",
    "\n",
    "import boto3\n",
    "\n",
    "sqs = boto3.resource('sqs', endpoint_url='http://localstack-main:4566')\n",
    "\n",
    "print(sqs)"
   ]
  },
  {
   "cell_type": "code",
   "execution_count": null,
   "metadata": {},
   "outputs": [],
   "source": [
    "# List How many queues in SQS service \n",
    "\n",
    "queue_iterator = sqs.queues.all()\n",
    "\n",
    "for queue in queue_iterator:\n",
    "    print(queue)\n",
    "    print(queue.url)\n",
    "    print(queue.attributes)"
   ]
  },
  {
   "cell_type": "code",
   "execution_count": null,
   "metadata": {},
   "outputs": [],
   "source": [
    "# Create a queue\n",
    "\n",
    "my_queue = sqs.create_queue(QueueName='my_queue')\n",
    "print(my_queue)"
   ]
  },
  {
   "cell_type": "code",
   "execution_count": null,
   "metadata": {},
   "outputs": [],
   "source": [
    "# List How many queues in SQS service \n",
    "\n",
    "queue_iterator = sqs.queues.all()\n",
    "\n",
    "for queue in queue_iterator:\n",
    "    print(queue)\n",
    "    print(queue.url)\n",
    "    print(queue.attributes)"
   ]
  },
  {
   "cell_type": "code",
   "execution_count": null,
   "metadata": {},
   "outputs": [],
   "source": [
    "# List messages in queue\n",
    "\n",
    "list_of_message = my_queue.receive_messages(\n",
    "    MaxNumberOfMessages=10,  # Retrieves one or more messages (up to 10)\n",
    "    WaitTimeSeconds=3,  # 設為 0 時: 短輪詢；大於 0 時: 長輪詢(上限20秒)\n",
    ")\n",
    "\n",
    "print(list_of_message)\n",
    "\n",
    "for message in list_of_message:\n",
    "    print(message.message_id)\n",
    "    print(message.body)"
   ]
  },
  {
   "cell_type": "code",
   "execution_count": null,
   "metadata": {},
   "outputs": [],
   "source": [
    "# Send a message into queue\n",
    "\n",
    "# MessageBody (string) [REQUIRED] The maximum string size is 256 KB.\n",
    "\n",
    "response = my_queue.send_message(MessageBody='this is a message, please take it..')\n",
    "\n",
    "response"
   ]
  },
  {
   "cell_type": "code",
   "execution_count": null,
   "metadata": {},
   "outputs": [],
   "source": [
    "# List messages in queue\n",
    "\n",
    "list_of_message = my_queue.receive_messages(\n",
    "    MaxNumberOfMessages=10,  # Retrieves one or more messages (up to 10)\n",
    "    WaitTimeSeconds=3,  # 設為 0 時: 短輪詢；大於 0 時: 長輪詢(上限20秒)\n",
    ")\n",
    "\n",
    "print(list_of_message)\n",
    "\n",
    "for message in list_of_message:\n",
    "    print(message.message_id)\n",
    "    print(message.body)\n"
   ]
  },
  {
   "cell_type": "code",
   "execution_count": null,
   "metadata": {},
   "outputs": [],
   "source": [
    "\"\"\"\n",
    "剛才的操作有時會取得不到訊息\n",
    "    等一段時間後又取得到\n",
    "    原因是可見性逾時\n",
    "\n",
    "此步驟調整可見性逾時為 10 秒做測試\n",
    "List messages in queue (the message invisible)\n",
    "wait 10 seconds\n",
    "List messages in queue (the message visible)\n",
    "\n",
    "https://docs.aws.amazon.com/zh_tw/AWSSimpleQueueService/latest/SQSDeveloperGuide/sqs-visibility-timeout.html\n",
    "可見性逾時 VisibilityTimeout: \n",
    "    接收消息時設定，訊息的預設可見性逾時為 30 秒。下限為 0 秒。上限為 12 小時。\n",
    "\"\"\"\n",
    "\n",
    "\n",
    "list_of_message = my_queue.receive_messages(\n",
    "    MaxNumberOfMessages=10,  # Retrieves one or more messages (up to 10)\n",
    "    WaitTimeSeconds=0,  # 設為 0 時: 短輪詢；大於 0 時: 長輪詢(上限20秒)\n",
    "    VisibilityTimeout=10,  # 可見性逾時預設 30 秒。下限： 0 秒，上限： 12 小時。\n",
    ")\n",
    "\n",
    "print(list_of_message)\n",
    "\n",
    "for message in list_of_message:\n",
    "    print(message.message_id)\n",
    "    print(message.body)\n"
   ]
  },
  {
   "cell_type": "code",
   "execution_count": null,
   "metadata": {},
   "outputs": [],
   "source": [
    "\"\"\"\n",
    "Get a message from queue \n",
    "Delete message from queue\n",
    "    wait 10 second\n",
    "List messages in queue\n",
    "\n",
    "\"\"\"\n",
    "\n",
    "# 取得一筆訊息\n",
    "list_of_message = my_queue.receive_messages(\n",
    "    MaxNumberOfMessages=1,  # Retrieves one or more messages (up to 10)\n",
    "    WaitTimeSeconds=0,  # 設為 0 時: 短輪詢；大於 0 時: 長輪詢(上限20秒)\n",
    "    VisibilityTimeout=10,  # 可見性逾時預設 30 秒。下限： 0 秒，上限： 12 小時。\n",
    ")\n",
    "\n",
    "print(list_of_message)\n",
    "\n",
    "if len(list_of_message) > 0:\n",
    "    print(list_of_message[0].receipt_handle)\n",
    "\n"
   ]
  },
  {
   "cell_type": "code",
   "execution_count": null,
   "metadata": {},
   "outputs": [],
   "source": [
    "# 使用ReceiptHandle 刪除此訊息，每次接收訊息 ReceiptHandle 都會不一樣\n",
    "\n",
    "response = queue.delete_messages(\n",
    "    Entries=[\n",
    "        {\n",
    "            'Id': 'something_you_can_distinguish',  # 因為此動作為批次刪除訊息，為了區分不同訊息處理結果，可自定義 Id 來區分\n",
    "            'ReceiptHandle': '上一步驟取得的 receipt_handle'\n",
    "        },\n",
    "        \n",
    "    ]\n",
    ")\n",
    "\n",
    "response"
   ]
  },
  {
   "cell_type": "code",
   "execution_count": null,
   "metadata": {},
   "outputs": [],
   "source": [
    "# 再次收取訊息\n",
    "\n",
    "list_of_message = my_queue.receive_messages(\n",
    "    MaxNumberOfMessages=10,  # Retrieves one or more messages (up to 10)\n",
    "    WaitTimeSeconds=0,  # 設為 0 時: 短輪詢；大於 0 時: 長輪詢(上限20秒)\n",
    "    VisibilityTimeout=10,  # 可見性逾時預設 30 秒。下限： 0 秒，上限： 12 小時。\n",
    ")\n",
    "\n",
    "print(list_of_message)\n",
    "\n",
    "for message in list_of_message:\n",
    "    print(message.message_id)\n",
    "    print(message.body)\n"
   ]
  },
  {
   "cell_type": "code",
   "execution_count": null,
   "metadata": {},
   "outputs": [],
   "source": [
    "# Deletes the queue specified by the QueueUrl, regardless of the queue's contents. \n",
    "\n",
    "response = my_queue.delete()\n",
    "\n",
    "print(response)"
   ]
  },
  {
   "cell_type": "code",
   "execution_count": null,
   "metadata": {},
   "outputs": [],
   "source": []
  }
 ],
 "metadata": {
  "kernelspec": {
   "display_name": "Python 3",
   "language": "python",
   "name": "python3"
  },
  "language_info": {
   "codemirror_mode": {
    "name": "ipython",
    "version": 3
   },
   "file_extension": ".py",
   "mimetype": "text/x-python",
   "name": "python",
   "nbconvert_exporter": "python",
   "pygments_lexer": "ipython3",
   "version": "3.7.6"
  }
 },
 "nbformat": 4,
 "nbformat_minor": 4
}
