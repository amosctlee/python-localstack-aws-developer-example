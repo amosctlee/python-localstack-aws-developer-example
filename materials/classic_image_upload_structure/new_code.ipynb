{
 "cells": [
  {
   "cell_type": "code",
   "execution_count": null,
   "metadata": {},
   "outputs": [],
   "source": [
    "'''\n",
    "\n",
    "以先前案例組合而成\n",
    "\n",
    "S3 客戶端生成\n",
    "DynamoDB 客戶端生成\n",
    "flask app 生成\n",
    "\n",
    "創建S3 桶子\n",
    "創建 DynamoDB Table\n",
    "\n",
    "第一個方法\n",
    "    用戶訪問網站\n",
    "    看見上傳網站頁面，下方有目前已上傳圖片的表格清單，表格內要有 S3 的連結名\n",
    "\n",
    "第二個方法\n",
    "    用戶上傳圖片\n",
    "    伺服器收到 Request\n",
    "    生成 presigned url，上傳的檔案預設需公開\n",
    "    並插入資料至 DynamoDB\n",
    "    讓用戶將圖片傳至 presigned url\n",
    "    看見上傳網站頁面，下方有目前已上傳圖片的表格清單，表格內要有 S3 的連結名\n",
    "\n",
    "\n",
    "啟動flask app，使外部port 5000 能訪問\n",
    "\n",
    "\n",
    "'''"
   ]
  },
  {
   "cell_type": "code",
   "execution_count": null,
   "metadata": {},
   "outputs": [],
   "source": [
    "!pip install boto3 awscli requests flask"
   ]
  },
  {
   "cell_type": "code",
   "execution_count": 1,
   "metadata": {},
   "outputs": [],
   "source": [
    "'''\n",
    "\n",
    "S3 客戶端生成\n",
    "DynamoDB 客戶端生成\n",
    "flask app 生成\n",
    "\n",
    "'''\n",
    "import boto3\n",
    "from flask import Flask\n",
    "\n",
    "\n",
    "s3_client = boto3.client('s3', endpoint_url='http://localstack-main:4566')\n",
    "# s3_client = boto3.client('s3')\n",
    "dynamodb = boto3.resource('dynamodb', endpoint_url='http://localstack-main:4566')\n",
    "\n",
    "app = Flask(__name__)\n"
   ]
  },
  {
   "cell_type": "code",
   "execution_count": 2,
   "metadata": {},
   "outputs": [
    {
     "name": "stdout",
     "output_type": "stream",
     "text": [
      "{'ResponseMetadata': {'RequestId': '5D754175430594D2', 'HostId': 'MzRISOwyjmnup5D754175430594D27/JypPGXLh0OVFGcJaaO3KW/hRAqKOpIEEp', 'HTTPStatusCode': 200, 'HTTPHeaders': {'content-type': 'application/xml; charset=utf-8', 'content-length': '175', 'access-control-allow-origin': '*', 'last-modified': 'Tue, 18 Aug 2020 16:08:01 GMT', 'x-amz-request-id': '5D754175430594D2', 'x-amz-id-2': 'MzRISOwyjmnup5D754175430594D27/JypPGXLh0OVFGcJaaO3KW/hRAqKOpIEEp', 'access-control-allow-methods': 'HEAD,GET,PUT,POST,DELETE,OPTIONS,PATCH', 'access-control-allow-headers': 'authorization,content-type,content-md5,cache-control,x-amz-content-sha256,x-amz-date,x-amz-security-token,x-amz-user-agent,x-amz-target,x-amz-acl,x-amz-version-id,x-localstack-target,x-amz-tagging', 'access-control-expose-headers': 'x-amz-version-id', 'connection': 'close', 'date': 'Tue, 18 Aug 2020 16:08:01 GMT', 'server': 'hypercorn-h11'}, 'RetryAttempts': 0}}\n",
      "dynamodb.Table(name='s3-objects-list')\n"
     ]
    }
   ],
   "source": [
    "'''\n",
    "\n",
    "創建S3 桶子\n",
    "創建 DynamoDB Table\n",
    "\n",
    "'''\n",
    "\n",
    "\n",
    "create_bucket_response = s3_client.create_bucket(\n",
    "    Bucket='cxcxc-aws-certificate',\n",
    ")\n",
    "print(create_bucket_response)\n",
    "\n",
    "\n",
    "table = dynamodb.create_table(\n",
    "    TableName='s3-objects-list', \n",
    "    KeySchema=[\n",
    "        {\n",
    "            'AttributeName': 'image_name',\n",
    "            'KeyType': 'HASH'  # Partition key\n",
    "        },\n",
    "        {\n",
    "            'AttributeName': 'object_name',\n",
    "            'KeyType': 'RANGE'  # Sort key\n",
    "        }\n",
    "    ], \n",
    "    AttributeDefinitions=[\n",
    "        {\n",
    "            'AttributeName': 'image_name',\n",
    "            'AttributeType': 'S'  # N 代表數字； S 代表字串。\n",
    "        },\n",
    "        {\n",
    "            'AttributeName': 'object_name',\n",
    "            'AttributeType': 'S'  \n",
    "        },\n",
    "    ],\n",
    "    ProvisionedThroughput={\n",
    "        'ReadCapacityUnits': 5,\n",
    "        'WriteCapacityUnits': 5\n",
    "    }\n",
    ")\n",
    "\n",
    "print(table)\n"
   ]
  },
  {
   "cell_type": "code",
   "execution_count": null,
   "metadata": {},
   "outputs": [],
   "source": [
    "# 列出現有 bucket\n",
    "response = s3_client.list_buckets()\n",
    "print(response.get('Buckets'))\n",
    "\n",
    "# 列出現有 table\n",
    "table_list = list(dynamodb.tables.all())\n",
    "print(table_list)\n"
   ]
  },
  {
   "cell_type": "code",
   "execution_count": null,
   "metadata": {},
   "outputs": [],
   "source": [
    "'''\n",
    "\n",
    "掃描DynamoDB Table 所有項目\n",
    "\n",
    "'''\n",
    "\n",
    "def scan_dynamodb(table_name='s3-objects-list') -> list:\n",
    "    \n",
    "    dynamodb = boto3.resource('dynamodb', endpoint_url='http://localstack-main:4566')\n",
    "    table = dynamodb.Table(table_name)\n",
    "\n",
    "    # 掃描 DynamoDB 將所有 image 列出\n",
    "    response = table.scan(\n",
    "        FilterExpression=Attr('image_name').exists()\n",
    "    )\n",
    "    items = response['Items']\n",
    "    \n",
    "    return items\n"
   ]
  },
  {
   "cell_type": "code",
   "execution_count": 3,
   "metadata": {},
   "outputs": [],
   "source": [
    "\"\"\"\n",
    "\n",
    "根據時間為物件取名\n",
    "生成S3 presigned post url\n",
    "\n",
    "透過前端頁面上傳至S3 presigned post url\n",
    "\n",
    "\"\"\"\n",
    "import datetime\n",
    "\n",
    "def create_presigned_post(bucket_name='cxcxc-aws-certificate', object_name=None) -> dict:\n",
    "    \n",
    "    s3_client = boto3.client('s3', endpoint_url='http://localstack-main:4566')\n",
    "#     s3_client = boto3.client('s3')\n",
    "    if object_name is None:\n",
    "        object_name = datetime.datetime.utcnow().strftime('%Y%m%d_%H%M%S')\n",
    "    \n",
    "    # Generate a presigned S3 POST URL\n",
    "    response = s3_client.generate_presigned_post(bucket_name, object_name)\n",
    "    \n",
    "    # The response contains the presigned URL and required fields\n",
    "    return response\n",
    "\n",
    "\n",
    "@app.route('/upload-images', methods=['GET', 'POST'])\n",
    "def upload_images():\n",
    "    \n",
    "    presigned_post = create_presigned_post()\n",
    "    print(presigned_post)\n",
    "    presigned_post_url = presigned_post.get('url')\n",
    "    required_fields = presigned_post.get('fields')\n",
    "\n",
    "    html = f\"\"\"<html>\n",
    "      <head>\n",
    "        <meta http-equiv=\"Content-Type\" content=\"text/html; charset=UTF-8\" />\n",
    "      </head>\n",
    "      <body>\n",
    "        <!-- 因為我們在container 外的瀏覽器連入，所以S3 的URL 要使用虛擬機IP，以下這行是原本的用法\n",
    "        <form action=\"{presigned_post_url}\" method=\"post\" enctype=\"multipart/form-data\"> \n",
    "        -->\n",
    "        \n",
    "        <form action=\"http://192.168.71.129:4566/cxcxc-aws-certificate\" method=\"post\" enctype=\"multipart/form-data\">\n",
    "        \n",
    "          <input type=\"hidden\" name=\"key\" value=\"{required_fields.get('key')}\" />\n",
    "          <input type=\"hidden\" name=\"AWSAccessKeyId\" value=\"{required_fields.get('AWSAccessKeyId')}\" />\n",
    "          <input type=\"hidden\" name=\"policy\" value=\"{required_fields.get('policy')}\" />\n",
    "          <input type=\"hidden\" name=\"signature\" value=\"{required_fields.get('signature')}\" />\n",
    "        File:\n",
    "          <input type=\"file\"   name=\"file\" /> <br />\n",
    "          <input type=\"submit\" name=\"submit\" value=\"Upload to Amazon S3\"  />\n",
    "        </form>\n",
    "        \n",
    "        \n",
    "      </body>\n",
    "    </html>\n",
    "    \"\"\"\n",
    "    \n",
    "    return html\n",
    "\n"
   ]
  },
  {
   "cell_type": "code",
   "execution_count": null,
   "metadata": {},
   "outputs": [],
   "source": [
    "# @app.route('/images', methods=['GET'])\n",
    "def list_images():\n",
    "    \n",
    "    dynamodb = boto3.resource('dynamodb', endpoint_url='http://localstack-main:4566')\n",
    "    \n",
    "    table = dynamodb.Table('s3-objects-list')\n",
    "\n",
    "    # 掃描 DynamoDB 將所有 image 列出\n",
    "    response = table.scan(\n",
    "        FilterExpression=Attr('image_name').exists()\n",
    "    )\n",
    "    items = response['Items']\n",
    "    \n",
    "    print(items)\n",
    "    \n",
    "    html = f\"\"\"<!doctype html>\n",
    "        <title>Read Files</title>\n",
    "        <h1>Read Files</h1>\n",
    "\n",
    "        <table border=\"1\">\n",
    "            <tr>\n",
    "                <td>已上傳的圖片名稱</td>\n",
    "                <td>S3 物件名稱</td>\n",
    "                <td>S3 URL</td>\n",
    "            </tr>\n",
    "\n",
    "                <tr>\n",
    "                    <td>{{ uploaded_images[i] }}</td>\n",
    "                    <td>{{ images_url[i] }}</td>\n",
    "                </tr>\n",
    "\n",
    "        </table>\n",
    "    \"\"\"\n",
    "    \n",
    "    return items"
   ]
  },
  {
   "cell_type": "code",
   "execution_count": null,
   "metadata": {},
   "outputs": [],
   "source": [
    "list_images()"
   ]
  },
  {
   "cell_type": "code",
   "execution_count": null,
   "metadata": {},
   "outputs": [],
   "source": [
    "'''\n",
    "\n",
    "第一個方法\n",
    "    用戶訪問網站\n",
    "    看見上傳網站頁面，下方有目前已上傳圖片的表格清單，表格內要有 S3 的連結名\n",
    "\n",
    "'''"
   ]
  },
  {
   "cell_type": "code",
   "execution_count": null,
   "metadata": {},
   "outputs": [],
   "source": [
    "'''\n",
    "\n",
    "第二個方法\n",
    "    用戶上傳圖片\n",
    "    伺服器收到 Request\n",
    "    生成 presigned url，上傳的檔案預設需公開\n",
    "    並插入資料至 DynamoDB\n",
    "    讓用戶將圖片傳至 presigned url\n",
    "    看見上傳網站頁面，下方有目前已上傳圖片的表格清單，表格內要有 S3 的連結名\n",
    "\n",
    "'''\n",
    "\n"
   ]
  },
  {
   "cell_type": "code",
   "execution_count": null,
   "metadata": {},
   "outputs": [
    {
     "name": "stdout",
     "output_type": "stream",
     "text": [
      " * Serving Flask app \"__main__\" (lazy loading)\n",
      " * Environment: production\n",
      "\u001b[31m   WARNING: This is a development server. Do not use it in a production deployment.\u001b[0m\n",
      "\u001b[2m   Use a production WSGI server instead.\u001b[0m\n",
      " * Debug mode: off\n"
     ]
    },
    {
     "name": "stderr",
     "output_type": "stream",
     "text": [
      " * Running on http://0.0.0.0:5000/ (Press CTRL+C to quit)\n",
      "172.19.0.6 - - [18/Aug/2020 16:17:47] \"\u001b[37mGET /upload-images HTTP/1.1\u001b[0m\" 200 -\n"
     ]
    },
    {
     "name": "stdout",
     "output_type": "stream",
     "text": [
      "{'url': 'http://localstack-main:4566/cxcxc-aws-certificate', 'fields': {'key': '20200818_161747', 'AWSAccessKeyId': 'abc', 'policy': 'eyJleHBpcmF0aW9uIjogIjIwMjAtMDgtMThUMTc6MTc6NDdaIiwgImNvbmRpdGlvbnMiOiBbeyJidWNrZXQiOiAiY3hjeGMtYXdzLWNlcnRpZmljYXRlIn0sIHsia2V5IjogIjIwMjAwODE4XzE2MTc0NyJ9XX0=', 'signature': 'ir1QQRFyWuOvYzdKXuemWSTB5GQ='}}\n"
     ]
    },
    {
     "name": "stderr",
     "output_type": "stream",
     "text": [
      "172.19.0.6 - - [18/Aug/2020 16:19:29] \"\u001b[37mGET /upload-images HTTP/1.1\u001b[0m\" 200 -\n"
     ]
    },
    {
     "name": "stdout",
     "output_type": "stream",
     "text": [
      "{'url': 'http://localstack-main:4566/cxcxc-aws-certificate', 'fields': {'key': '20200818_161929', 'AWSAccessKeyId': 'abc', 'policy': 'eyJleHBpcmF0aW9uIjogIjIwMjAtMDgtMThUMTc6MTk6MjlaIiwgImNvbmRpdGlvbnMiOiBbeyJidWNrZXQiOiAiY3hjeGMtYXdzLWNlcnRpZmljYXRlIn0sIHsia2V5IjogIjIwMjAwODE4XzE2MTkyOSJ9XX0=', 'signature': 'PX0QgCQwVDiklv7jUS5blHCqCEk='}}\n"
     ]
    }
   ],
   "source": [
    "'''\n",
    "\n",
    "啟動flask app，使外部port 5000 能訪問\n",
    "\n",
    "'''\n",
    "\n",
    "if __name__ == '__main__':\n",
    "    app.run(host='0.0.0.0', port=5000)"
   ]
  },
  {
   "cell_type": "code",
   "execution_count": 5,
   "metadata": {},
   "outputs": [
    {
     "data": {
      "text/plain": [
       "{'ResponseMetadata': {'RequestId': '3941C709B13DAA69',\n",
       "  'HostId': 'MzRISOwyjmnup3941C709B13DAA697/JypPGXLh0OVFGcJaaO3KW/hRAqKOpIEEp',\n",
       "  'HTTPStatusCode': 200,\n",
       "  'HTTPHeaders': {'content-type': 'application/xml; charset=utf-8',\n",
       "   'content-length': '461',\n",
       "   'access-control-allow-origin': '*',\n",
       "   'last-modified': 'Tue, 18 Aug 2020 16:10:17 GMT',\n",
       "   'x-amz-request-id': '3941C709B13DAA69',\n",
       "   'x-amz-id-2': 'MzRISOwyjmnup3941C709B13DAA697/JypPGXLh0OVFGcJaaO3KW/hRAqKOpIEEp',\n",
       "   'accept-ranges': 'bytes',\n",
       "   'content-language': 'en-US',\n",
       "   'cache-control': 'no-cache',\n",
       "   'content-encoding': 'identity',\n",
       "   'access-control-allow-methods': 'HEAD,GET,PUT,POST,DELETE,OPTIONS,PATCH',\n",
       "   'access-control-allow-headers': 'authorization,content-type,content-md5,cache-control,x-amz-content-sha256,x-amz-date,x-amz-security-token,x-amz-user-agent,x-amz-target,x-amz-acl,x-amz-version-id,x-localstack-target,x-amz-tagging',\n",
       "   'access-control-expose-headers': 'x-amz-version-id',\n",
       "   'connection': 'close',\n",
       "   'date': 'Tue, 18 Aug 2020 16:10:26 GMT',\n",
       "   'server': 'hypercorn-h11'},\n",
       "  'RetryAttempts': 0},\n",
       " 'IsTruncated': False,\n",
       " 'Contents': [{'Key': '20200818_160829',\n",
       "   'LastModified': datetime.datetime(2020, 8, 18, 16, 10, 17, 716000, tzinfo=tzlocal()),\n",
       "   'ETag': '\"a2dab94f23bea3932d31eb0d1dcff390\"',\n",
       "   'Size': 89652,\n",
       "   'StorageClass': 'STANDARD'}],\n",
       " 'Name': 'cxcxc-aws-certificate',\n",
       " 'Prefix': '',\n",
       " 'MaxKeys': 1000,\n",
       " 'KeyCount': 1}"
      ]
     },
     "execution_count": 5,
     "metadata": {},
     "output_type": "execute_result"
    }
   ],
   "source": [
    "s3_client.list_objects_v2(Bucket='cxcxc-aws-certificate')"
   ]
  },
  {
   "cell_type": "code",
   "execution_count": null,
   "metadata": {},
   "outputs": [],
   "source": []
  }
 ],
 "metadata": {
  "kernelspec": {
   "display_name": "Python 3",
   "language": "python",
   "name": "python3"
  },
  "language_info": {
   "codemirror_mode": {
    "name": "ipython",
    "version": 3
   },
   "file_extension": ".py",
   "mimetype": "text/x-python",
   "name": "python",
   "nbconvert_exporter": "python",
   "pygments_lexer": "ipython3",
   "version": "3.7.6"
  }
 },
 "nbformat": 4,
 "nbformat_minor": 4
}
