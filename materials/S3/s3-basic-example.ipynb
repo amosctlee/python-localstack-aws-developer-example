{
 "cells": [
  {
   "cell_type": "code",
   "execution_count": null,
   "metadata": {},
   "outputs": [],
   "source": [
    "'''\n",
    "\n",
    "    create a client\n",
    "    list all bucket in s3\n",
    "    create a bucket\n",
    "    list bucket in s3 \n",
    "    list object from bucket\n",
    "    put object into bucket\n",
    "    list object from bucket\n",
    "    get object from bucket\n",
    "    delete object from bucket\n",
    "    list object from bucket\n",
    "\n",
    "'''"
   ]
  },
  {
   "cell_type": "code",
   "execution_count": null,
   "metadata": {},
   "outputs": [],
   "source": [
    "!pip install boto3 awscli"
   ]
  },
  {
   "cell_type": "code",
   "execution_count": null,
   "metadata": {},
   "outputs": [],
   "source": [
    "# create a client\n",
    "\n",
    "import boto3\n",
    "\n",
    "s3 = boto3.resource('s3', endpoint_url='http://localstack-main:4566')\n",
    "\n",
    "print(s3)"
   ]
  },
  {
   "cell_type": "code",
   "execution_count": null,
   "metadata": {},
   "outputs": [],
   "source": [
    "# list all bucket in s3 \n",
    "\n",
    "bucket_iterator = s3.buckets.all()\n",
    "\n",
    "# print(bucket_iterator)\n",
    "print(list(bucket_iterator))\n",
    "\n",
    "for bucket in bucket_iterator:\n",
    "    print(bucket)\n",
    "    print(bucket.name)\n",
    "    print(bucket.creation_date)"
   ]
  },
  {
   "cell_type": "code",
   "execution_count": null,
   "metadata": {},
   "outputs": [],
   "source": [
    "# create a bucket\n",
    "\n",
    "bucket = s3.create_bucket(\n",
    "    Bucket='cxcxc-aws-certificate',\n",
    ")\n",
    "\n",
    "print(bucket)\n",
    "print(bucket.name)\n",
    "print(bucket.creation_date)"
   ]
  },
  {
   "cell_type": "code",
   "execution_count": null,
   "metadata": {},
   "outputs": [],
   "source": [
    "# list all bucket in s3 \n",
    "\n",
    "bucket_iterator = s3.buckets.all()\n",
    "\n",
    "# print(bucket_iterator)\n",
    "print(list(bucket_iterator))\n",
    "\n",
    "for bucket in bucket_iterator:\n",
    "    print(bucket)\n",
    "    print(bucket.name)\n",
    "    print(bucket.creation_date)"
   ]
  },
  {
   "cell_type": "code",
   "execution_count": null,
   "metadata": {},
   "outputs": [],
   "source": [
    "# list object from bucket\n",
    "\n",
    "object_summary_iterator = bucket.objects.all()\n",
    "\n",
    "# print(object_summary_iterator)\n",
    "print(list(object_summary_iterator))\n",
    "\n",
    "for obj in object_summary_iterator:\n",
    "    print(obj)\n",
    "    print(obj.bucket_name)\n",
    "    print(obj.key)"
   ]
  },
  {
   "cell_type": "code",
   "execution_count": null,
   "metadata": {},
   "outputs": [],
   "source": [
    "# put object into bucket\n",
    "# bucket.upload_file(Filename, Key)\n",
    "\n",
    "\n",
    "bucket.upload_file('cxcxc-develope.txt', 'cxcxc-develope-in-bucket')"
   ]
  },
  {
   "cell_type": "code",
   "execution_count": null,
   "metadata": {},
   "outputs": [],
   "source": [
    "# list object from bucket\n",
    "\n",
    "object_summary_iterator = bucket.objects.all()\n",
    "\n",
    "# print(object_summary_iterator)\n",
    "print(list(object_summary_iterator))\n",
    "\n",
    "for obj in object_summary_iterator:\n",
    "    print(obj)\n",
    "    print('bucket name:', obj.bucket_name)\n",
    "    print('key name:', obj.key)"
   ]
  },
  {
   "cell_type": "code",
   "execution_count": null,
   "metadata": {},
   "outputs": [],
   "source": [
    "# get object from bucket\n",
    "# bucket.download_file(Key , Filename)\n",
    "\n",
    "bucket.download_file('cxcxc-develope-in-bucket', 'cxcxc-develope-2.txt')"
   ]
  },
  {
   "cell_type": "code",
   "execution_count": null,
   "metadata": {},
   "outputs": [],
   "source": [
    "# delete object from bucket\n",
    "# This operation enables you to delete multiple objects from a bucket using a single HTTP request.\n",
    "\n",
    "\n",
    "response = bucket.delete_objects(\n",
    "    Delete={\n",
    "        'Objects': [\n",
    "            {\n",
    "                'Key': 'cxcxc-develope-in-bucket'\n",
    "            },\n",
    "        ]\n",
    "    }\n",
    ")\n",
    "\n",
    "response"
   ]
  },
  {
   "cell_type": "code",
   "execution_count": null,
   "metadata": {},
   "outputs": [],
   "source": [
    "# list object from bucket\n",
    "\n",
    "object_summary_iterator = bucket.objects.all()\n",
    "\n",
    "# print(object_summary_iterator)\n",
    "print(list(object_summary_iterator))\n",
    "\n",
    "for obj in object_summary_iterator:\n",
    "    print(obj)\n",
    "    print('bucket name:', obj.bucket_name)\n",
    "    print('key name:', obj.key)"
   ]
  },
  {
   "cell_type": "code",
   "execution_count": null,
   "metadata": {},
   "outputs": [],
   "source": []
  }
 ],
 "metadata": {
  "kernelspec": {
   "display_name": "Python 3",
   "language": "python",
   "name": "python3"
  },
  "language_info": {
   "codemirror_mode": {
    "name": "ipython",
    "version": 3
   },
   "file_extension": ".py",
   "mimetype": "text/x-python",
   "name": "python",
   "nbconvert_exporter": "python",
   "pygments_lexer": "ipython3",
   "version": "3.7.6"
  }
 },
 "nbformat": 4,
 "nbformat_minor": 4
}
