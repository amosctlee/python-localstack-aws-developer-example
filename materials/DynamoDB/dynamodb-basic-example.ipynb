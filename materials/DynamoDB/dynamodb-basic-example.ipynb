{
 "cells": [
  {
   "cell_type": "code",
   "execution_count": null,
   "metadata": {},
   "outputs": [],
   "source": [
    "'''\n",
    "\n",
    "    create a dynamodb client\n",
    "    list tables in dynamodb\n",
    "    create table in dynamodb\n",
    "    list item in table\n",
    "    insert two item to dynamodb\n",
    "    list item in table\n",
    "    get item from table\n",
    "    remove item from table\n",
    "    query\n",
    "    scan\n",
    "\n",
    "What kind difference of query and scan?\n",
    "\n",
    "參考連結\n",
    "https://boto3.amazonaws.com/v1/documentation/api/latest/reference/services/dynamodb.html\n",
    "\n",
    "DynamoDB 對應Python 資料型態\n",
    "https://boto3.amazonaws.com/v1/documentation/api/latest/reference/customizations/dynamodb.html#ref-valid-dynamodb-types\n",
    "\n",
    "'''"
   ]
  },
  {
   "cell_type": "code",
   "execution_count": null,
   "metadata": {},
   "outputs": [],
   "source": [
    "!pip install boto3 awscli"
   ]
  },
  {
   "cell_type": "code",
   "execution_count": null,
   "metadata": {},
   "outputs": [],
   "source": [
    "# create a dynamodb client\n",
    "\n",
    "import boto3\n",
    "\n",
    "# Get the service resource.\n",
    "dynamodb = boto3.resource('dynamodb', endpoint_url='http://localstack-main:4566')"
   ]
  },
  {
   "cell_type": "code",
   "execution_count": null,
   "metadata": {},
   "outputs": [],
   "source": [
    "# list tables in dynamodb\n",
    "\n",
    "list(dynamodb.tables.all())"
   ]
  },
  {
   "cell_type": "code",
   "execution_count": null,
   "metadata": {},
   "outputs": [],
   "source": [
    "# create table in dynamodb\n",
    "\n",
    "table = dynamodb.create_table(\n",
    "    TableName='s3-objects-list', \n",
    "    KeySchema=[\n",
    "        {\n",
    "            'AttributeName': 'image_name',\n",
    "            'KeyType': 'HASH'  # Partition key\n",
    "        },\n",
    "        {\n",
    "            'AttributeName': 'upload_time',\n",
    "            'KeyType': 'RANGE'  # Sort key\n",
    "        }\n",
    "    ], \n",
    "    AttributeDefinitions=[\n",
    "        {\n",
    "            'AttributeName': 'image_name',\n",
    "            'AttributeType': 'S'  # N 代表數字； S 代表字串。\n",
    "        },\n",
    "        {\n",
    "            'AttributeName': 'upload_time',\n",
    "            'AttributeType': 'S'  \n",
    "        }\n",
    "    ],\n",
    "    ProvisionedThroughput={\n",
    "        'ReadCapacityUnits': 5,\n",
    "        'WriteCapacityUnits': 5\n",
    "    }\n",
    ")\n",
    "\n"
   ]
  },
  {
   "cell_type": "code",
   "execution_count": null,
   "metadata": {},
   "outputs": [],
   "source": [
    "# list tables in dynamodb\n",
    "\n",
    "list(dynamodb.tables.all())"
   ]
  },
  {
   "cell_type": "code",
   "execution_count": null,
   "metadata": {},
   "outputs": [],
   "source": [
    "# list item in table\n",
    "\n",
    "table = dynamodb.Table('s3-objects-list')\n",
    "\n",
    "print(table.item_count)"
   ]
  },
  {
   "cell_type": "code",
   "execution_count": null,
   "metadata": {},
   "outputs": [],
   "source": [
    "# insert two item to dynamodb\n",
    "\n",
    "# Float types are not supported. Use Decimal types instead.\n",
    "\n",
    "from decimal import Decimal\n",
    "import datetime\n",
    "\n",
    "now1 = str(datetime.datetime.now())\n",
    "print(now1)\n",
    "\n",
    "table.put_item(\n",
    "   Item={\n",
    "        \"image_name\": 'first_image',\n",
    "        \"upload_time\": now1,\n",
    "        \"image_url\": 'https://s3_url/first_image'\n",
    "    }\n",
    ")\n",
    "\n",
    "now2 = str(datetime.datetime.now())\n",
    "print(now2)\n",
    "\n",
    "table.put_item(\n",
    "   Item={\n",
    "        \"image_name\": 'second_image',\n",
    "        \"upload_time\": now2,\n",
    "        \"image_url\": 'https://s3_url/second_image'\n",
    "    }\n",
    ")"
   ]
  },
  {
   "cell_type": "code",
   "execution_count": null,
   "metadata": {},
   "outputs": [],
   "source": [
    "# list item in table\n",
    "\n",
    "print(table.item_count)"
   ]
  },
  {
   "cell_type": "code",
   "execution_count": null,
   "metadata": {},
   "outputs": [],
   "source": [
    "# get item from table\n",
    "\n",
    "from pprint import pprint\n",
    "\n",
    "response = table.get_item(\n",
    "    Key={\n",
    "        'image_name': 'second_image',\n",
    "        'upload_time': now2\n",
    "    }\n",
    ")\n",
    "\n",
    "pprint(response)\n",
    "\n",
    "item = response['Item']\n",
    "pprint(item)"
   ]
  },
  {
   "cell_type": "code",
   "execution_count": null,
   "metadata": {},
   "outputs": [],
   "source": [
    "# remove item from table\n",
    "\n",
    "# For the primary key, you must provide all of the attributes. \n",
    "#     For example, with a simple primary key, \n",
    "#         you only need to provide a value for the partition key. \n",
    "#     For a composite primary key, \n",
    "#         you must provide values for both the partition key and the sort key.\n",
    "\n",
    "\n",
    "table.delete_item(\n",
    "    Key={\n",
    "        \"image_name\": 'second_image',\n",
    "        \"upload_time\": now2,\n",
    "    }\n",
    ")"
   ]
  },
  {
   "cell_type": "code",
   "execution_count": null,
   "metadata": {},
   "outputs": [],
   "source": [
    "# query\n",
    "\n",
    "# The Query operation finds items based on primary key values. \n",
    "\n",
    "# To add conditions to scanning and querying the table, \n",
    "#     you will need to import the boto3.dynamodb.conditions.Key \n",
    "#     and boto3.dynamodb.conditions.Attr classes.\n",
    "\n",
    "from boto3.dynamodb.conditions import Key, Attr\n",
    "from pprint import pprint\n",
    "\n",
    "response = table.query(\n",
    "    KeyConditionExpression=Key('image_name').eq('first_image')\n",
    ")\n",
    "\n",
    "items = response['Items']\n",
    "pprint(items)"
   ]
  },
  {
   "cell_type": "code",
   "execution_count": null,
   "metadata": {},
   "outputs": [],
   "source": [
    "# scan\n",
    "\n",
    "# The Scan operation returns one or more items and item attributes \n",
    "#     by accessing every item in a table or a secondary index.\n",
    "\n",
    "# To add conditions to scanning and querying the table, \n",
    "#     you will need to import the boto3.dynamodb.conditions.Key \n",
    "#     and boto3.dynamodb.conditions.Attr classes.\n",
    "\n",
    "# If the total number of scanned items exceeds the maximum dataset size limit of 1 MB, \n",
    "#     the scan stops and results are returned to the user as a LastEvaluatedKey value \n",
    "#     to continue the scan in a subsequent operation.\n",
    "\n",
    "from boto3.dynamodb.conditions import Key, Attr\n",
    "from pprint import pprint\n",
    "\n",
    "response = table.scan(\n",
    "    FilterExpression=Attr('image_url').contains('s3_url')\n",
    ")\n",
    "\n",
    "items = response['Items']\n",
    "pprint(items)"
   ]
  },
  {
   "cell_type": "code",
   "execution_count": null,
   "metadata": {},
   "outputs": [],
   "source": []
  },
  {
   "cell_type": "code",
   "execution_count": null,
   "metadata": {},
   "outputs": [],
   "source": []
  }
 ],
 "metadata": {
  "kernelspec": {
   "display_name": "Python 3",
   "language": "python",
   "name": "python3"
  },
  "language_info": {
   "codemirror_mode": {
    "name": "ipython",
    "version": 3
   },
   "file_extension": ".py",
   "mimetype": "text/x-python",
   "name": "python",
   "nbconvert_exporter": "python",
   "pygments_lexer": "ipython3",
   "version": "3.7.6"
  }
 },
 "nbformat": 4,
 "nbformat_minor": 4
}
